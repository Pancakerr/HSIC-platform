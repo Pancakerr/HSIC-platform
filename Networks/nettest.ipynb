{
 "cells": [
  {
   "cell_type": "code",
   "execution_count": 2,
   "metadata": {},
   "outputs": [
    {
     "name": "stderr",
     "output_type": "stream",
     "text": [
      "D:\\Anaconda3\\envs\\pytorch-gpu\\lib\\site-packages\\numpy\\_distributor_init.py:32: UserWarning: loaded more than 1 DLL from .libs:\n",
      "D:\\Anaconda3\\envs\\pytorch-gpu\\lib\\site-packages\\numpy\\.libs\\libopenblas.GK7GX5KEQ4F6UYO3P26ULGBQYHGQO7J4.gfortran-win_amd64.dll\n",
      "D:\\Anaconda3\\envs\\pytorch-gpu\\lib\\site-packages\\numpy\\.libs\\libopenblas.NOIJJG62EMASZI6NYURL6JBKM4EVBGM7.gfortran-win_amd64.dll\n",
      "  stacklevel=1)\n"
     ]
    }
   ],
   "source": [
    "import torch\n",
    "import torch.nn as nn\n",
    "import torch.nn.functional as F\n",
    "from torch.nn import init\n",
    "from torchinfo import summary\n",
    "from pytorch_wavelets import DWTForward, DWT1DForward"
   ]
  },
  {
   "cell_type": "code",
   "execution_count": 24,
   "metadata": {},
   "outputs": [
    {
     "name": "stderr",
     "output_type": "stream",
     "text": [
      "D:\\Anaconda3\\envs\\pytorch-gpu\\lib\\site-packages\\ipykernel_launcher.py:13: UserWarning: nn.init.kaiming_uniform is now deprecated in favor of nn.init.kaiming_uniform_.\n",
      "  del sys.path[0]\n"
     ]
    },
    {
     "data": {
      "text/plain": [
       "==========================================================================================\n",
       "Layer (type (var_name))                  Param #    Kernel Shape Mult-Adds  Input Shape Output Shape\n",
       "==========================================================================================\n",
       "M3DCNN                                   --         --         --         --         --\n",
       "├─Conv3d (conv1)                         1,600      [1, 16, 11, 3, 3] 12,400,000 [10, 1, 102, 7, 7] [10, 16, 31, 5, 5]\n",
       "├─Conv3d (conv2_1)                       272        [16, 16, 1, 1, 1] 2,108,000  [10, 16, 31, 5, 5] [10, 16, 31, 5, 5]\n",
       "├─Conv3d (conv2_2)                       784        [16, 16, 3, 1, 1] 6,076,000  [10, 16, 31, 5, 5] [10, 16, 31, 5, 5]\n",
       "├─Conv3d (conv2_3)                       1,296      [16, 16, 5, 1, 1] 10,044,000 [10, 16, 31, 5, 5] [10, 16, 31, 5, 5]\n",
       "├─Conv3d (conv2_4)                       2,832      [16, 16, 11, 1, 1] 21,948,000 [10, 16, 31, 5, 5] [10, 16, 31, 5, 5]\n",
       "├─Conv3d (conv3_1)                       272        [16, 16, 1, 1, 1] 2,108,000  [10, 16, 31, 5, 5] [10, 16, 31, 5, 5]\n",
       "├─Conv3d (conv3_2)                       784        [16, 16, 3, 1, 1] 6,076,000  [10, 16, 31, 5, 5] [10, 16, 31, 5, 5]\n",
       "├─Conv3d (conv3_3)                       1,296      [16, 16, 5, 1, 1] 10,044,000 [10, 16, 31, 5, 5] [10, 16, 31, 5, 5]\n",
       "├─Conv3d (conv3_4)                       2,832      [16, 16, 11, 1, 1] 21,948,000 [10, 16, 31, 5, 5] [10, 16, 31, 5, 5]\n",
       "├─Conv3d (conv4)                         3,088      [16, 16, 3, 2, 2] 14,328,320 [10, 16, 31, 5, 5] [10, 16, 29, 4, 4]\n",
       "├─Dropout (dropout)                      --         --         --         [10, 7424] [10, 7424]\n",
       "├─Linear (fc)                            66,825     [7424, 9]  668,250    [10, 7424] [10, 9]\n",
       "==========================================================================================\n",
       "Total params: 81,881\n",
       "Trainable params: 81,881\n",
       "Non-trainable params: 0\n",
       "Total mult-adds (M): 107.75\n",
       "==========================================================================================\n",
       "Input size (MB): 0.20\n",
       "Forward/backward pass size (MB): 9.52\n",
       "Params size (MB): 0.33\n",
       "Estimated Total Size (MB): 10.05\n",
       "=========================================================================================="
      ]
     },
     "execution_count": 24,
     "metadata": {},
     "output_type": "execute_result"
    }
   ],
   "source": [
    "class M3DCNN(nn.Module):\n",
    "    \"\"\"\n",
    "    MULTI-SCALE 3D DEEP CONVOLUTIONAL NEURAL NETWORK FOR HYPERSPECTRAL\n",
    "    IMAGE CLASSIFICATION\n",
    "    Mingyi He, Bo Li, Huahui Chen\n",
    "    IEEE International Conference on Image Processing (ICIP) 2017\n",
    "    https://ieeexplore.ieee.org/document/8297014/\n",
    "    \"\"\"\n",
    "\n",
    "    @staticmethod\n",
    "    def weight_init(m):\n",
    "        if isinstance(m, nn.Linear) or isinstance(m, nn.Conv3d):\n",
    "            init.kaiming_uniform(m.weight)\n",
    "            init.zeros_(m.bias)\n",
    "\n",
    "    def __init__(self, input_channels, n_classes, patch_size=7):\n",
    "        super(M3DCNN, self).__init__()\n",
    "        self.input_channels = input_channels\n",
    "        self.patch_size = patch_size\n",
    "        self.conv1 = nn.Conv3d(1, 16, (11, 3, 3), stride=(3,1,1))\n",
    "        self.conv2_1 = nn.Conv3d(16, 16, (1, 1, 1), padding=(0,0,0))\n",
    "        self.conv2_2 = nn.Conv3d(16, 16, (3, 1, 1), padding=(1,0,0))\n",
    "        self.conv2_3 = nn.Conv3d(16, 16, (5, 1, 1), padding=(2,0,0))\n",
    "        self.conv2_4 = nn.Conv3d(16, 16, (11, 1, 1), padding=(5,0,0))\n",
    "        self.conv3_1 = nn.Conv3d(16, 16, (1, 1, 1), padding=(0,0,0))\n",
    "        self.conv3_2 = nn.Conv3d(16, 16, (3, 1, 1), padding=(1,0,0))\n",
    "        self.conv3_3 = nn.Conv3d(16, 16, (5, 1, 1), padding=(2,0,0))\n",
    "        self.conv3_4 = nn.Conv3d(16, 16, (11, 1, 1), padding=(5,0,0))\n",
    "        self.conv4 = nn.Conv3d(16, 16, (3, 2, 2))\n",
    "        self.pooling = nn.MaxPool2d((3,2,2), stride=(3,2,2))\n",
    "        # the ratio of dropout is 0.6 in our experiments\n",
    "        self.dropout = nn.Dropout(p=0.6)\n",
    "        self.features_size = self._get_final_flattened_size()\n",
    "        \n",
    "        self.fc = nn.Linear(self.features_size, n_classes)\n",
    "\n",
    "        self.apply(self.weight_init)\n",
    "\n",
    "    def _get_final_flattened_size(self):\n",
    "        with torch.no_grad():\n",
    "            x = torch.zeros((1, 1, self.input_channels,\n",
    "                             self.patch_size, self.patch_size))\n",
    "            x = self.conv1(x)\n",
    "            x2_1 = self.conv2_1(x)\n",
    "            x2_2 = self.conv2_2(x)\n",
    "            x2_3 = self.conv2_3(x)\n",
    "            x2_4 = self.conv2_4(x)\n",
    "            x = x2_1 + x2_2 + x2_3 + x2_4\n",
    "            x3_1 = self.conv3_1(x)\n",
    "            x3_2 = self.conv3_2(x)\n",
    "            x3_3 = self.conv3_3(x)\n",
    "            x3_4 = self.conv3_4(x)\n",
    "            x = x3_1 + x3_2 + x3_3 + x3_4\n",
    "            x = self.conv4(x)\n",
    "            _, t, c, w, h = x.size()\n",
    "        return t * c * w * h\n",
    "\n",
    "    def forward(self, x):\n",
    "        x = x.unsqueeze(1)\n",
    "        x = F.relu(self.conv1(x))\n",
    "        x2_1 = self.conv2_1(x)\n",
    "        x2_2 = self.conv2_2(x)\n",
    "        x2_3 = self.conv2_3(x)\n",
    "        x2_4 = self.conv2_4(x)\n",
    "        x = x2_1 + x2_2 + x2_3 + x2_4\n",
    "        x = F.relu(x)\n",
    "        x3_1 = self.conv3_1(x)\n",
    "        x3_2 = self.conv3_2(x)\n",
    "        x3_3 = self.conv3_3(x)\n",
    "        x3_4 = self.conv3_4(x)\n",
    "        x = x3_1 + x3_2 + x3_3 + x3_4\n",
    "        x = F.relu(x)\n",
    "        x = F.relu(self.conv4(x))\n",
    "        x = x.view(-1, self.features_size)\n",
    "        x = self.dropout(x)\n",
    "        x = self.fc(x)\n",
    "        return x\n",
    "\n",
    "model = M3DCNN(103,9,7)\n",
    "model.train()\n",
    "x=torch.randn(64,103,7,7)\n",
    "target=torch.randint(0,9,(64,))\n",
    "y=model(x)\n",
    "criterion = nn.CrossEntropyLoss()\n",
    "out=criterion(y,target)\n",
    "summary(model,(10,103,7,7),col_names=['num_params','kernel_size','mult_adds','input_size','output_size'],col_width=10,row_settings=['var_names'],depth=2)"
   ]
  },
  {
   "cell_type": "code",
   "execution_count": 1,
   "metadata": {},
   "outputs": [],
   "source": [
    "import sklearn\n",
    "from sklearn.model_selection import train_test_split\n",
    "import numpy as np"
   ]
  }
 ],
 "metadata": {
  "interpreter": {
   "hash": "d3457bb7ebb579a2af0b7bbb5ed2bdd1f9cb895bc92c00022d0899c110706b83"
  },
  "kernelspec": {
   "display_name": "Python 3.7.10 64-bit ('pytorch-gpu': conda)",
   "name": "python3"
  },
  "language_info": {
   "codemirror_mode": {
    "name": "ipython",
    "version": 3
   },
   "file_extension": ".py",
   "mimetype": "text/x-python",
   "name": "python",
   "nbconvert_exporter": "python",
   "pygments_lexer": "ipython3",
   "version": "3.7.10"
  },
  "orig_nbformat": 4
 },
 "nbformat": 4,
 "nbformat_minor": 2
}
